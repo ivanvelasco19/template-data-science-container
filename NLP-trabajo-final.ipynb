{
 "cells": [
  {
   "cell_type": "markdown",
   "metadata": {
    "id": "DSZruQHnBkEO"
   },
   "source": [
    "# Trabajo Final procesamiento de lenguaje natural (NLP) <a class=\"tocSkip\">\n",
    "## Universidad Pontificia Bolivariana <a class=\"tocSkip\">\n",
    "\n",
    "**Estudiante:** Ivan Andres Velasco Arias\n",
    "\n",
    "**ID:** 000582575\n",
    "\n",
    "\n",
    "\n",
    "**Subir Este notebook de Trabajo Final en su repositorio de GitHub. y enviar el link en **Microsoft TEAMS**\n",
    "\n",
    "Docente: [Jose R. Zapata](https://joserzapata.github.io)\n",
    "- https://joserzapata.github.io\n",
    "- https://www.linkedin.com/in/jose-ricardo-zapata-gonzalez/       \n"
   ]
  },
  {
   "cell_type": "markdown",
   "metadata": {},
   "source": [
    "## Objetivo del Trabajo\n",
    "Realizar un proceso de Procesamiento de lenguaje natural (NLP) para dejar los datos preparados para ser usados con algoritmos de Machine Learning para Clasificación como objetivo final del trabajo.\n",
    "\n",
    "los datos preparados para ser usados con algoritmos de Machine Learning para Regresión o Clasificación como objetivo final del trabajo.\n",
    "\n",
    "El trabajo se realizara en este jupyter notebook y subirlo a su repositorio de github creado en clase. (**Recuerde poner su nombre e información**)\n",
    "\n",
    "## Las actividades a realizar\n",
    "    \n",
    "\n",
    "1) Limpiar los datos de texto.\n",
    "\n",
    "   - https://joserzapata.github.io/courses/nlp/procesamiento-basico/\n",
    "\n",
    "   - https://joserzapata.github.io/courses/nlp/preprocesamiento-texto/\n",
    "\n",
    "2) Realizar la representación de texto:\n",
    "\n",
    "   - https://joserzapata.github.io/courses/nlp/representaciones/\n",
    "\n",
    "   - Tokenización\n",
    "   - Lematización o stemming\n",
    "   - Representación de los datos de texto (Bag of Words o TF-IDF)\n",
    "\n",
    "3) Utilice un modelo de Machine Learning para clasificación para entrenar y evaluar el modelo.\n",
    "        \n",
    "    - Calcule estas las métricas de evaluación (accuracy, precision, recall, f1-score) - https://joserzapata.github.io/courses/python-ciencia-datos/clasificacion/#evaluacion-modelo-simple\n",
    "\n",
    "\n",
    "    \n",
    "   \n",
    "    \n",
    "*NOTA: No dude en contactarme para cualquier pregunta o inquietud :) por el chat de Teams o al correo\n",
    "joser.zapata@upb.edu.co*\n",
    "\n",
    "## EVALUACIÓN\n",
    "\n",
    "\n",
    "|Porcentaje en la evaluación | Descripción| Nada | Incompleto | Completo \n",
    "| :---: |:---: |:---: |:---: |:---: \n",
    "| 5 % |**limpieza de los datos** |\n",
    "| 5 % | **Representacion de los datos** |\n",
    "| 5 % | **Machine Learning** <br> Entrenar y evaluar el modelo propuesto |\n"
   ]
  },
  {
   "cell_type": "code",
   "execution_count": 63,
   "metadata": {
    "executionInfo": {
     "elapsed": 1784,
     "status": "ok",
     "timestamp": 1742313766605,
     "user": {
      "displayName": "Carlos Bustillo",
      "userId": "14895763228834044971"
     },
     "user_tz": 180
    },
    "id": "FbX4vPbang_e"
   },
   "outputs": [
    {
     "name": "stderr",
     "output_type": "stream",
     "text": [
      "[nltk_data] Downloading package stopwords to /home/vscode/nltk_data...\n",
      "[nltk_data]   Package stopwords is already up-to-date!\n"
     ]
    }
   ],
   "source": [
    "import pandas as pd\n",
    "import numpy as np\n",
    "\n",
    "from sklearn.metrics import (\n",
    "    accuracy_score,\n",
    "    precision_score,\n",
    "    recall_score,\n",
    "    f1_score,\n",
    "    roc_auc_score,\n",
    "    classification_report,\n",
    ")\n",
    "from sklearn.naive_bayes import MultinomialNB\n",
    "from sklearn.linear_model import LogisticRegression\n",
    "from sklearn.model_selection import train_test_split\n",
    "\n",
    "from sklearn.feature_extraction.text import CountVectorizer, TfidfVectorizer\n",
    "\n",
    "import nltk\n",
    "\n",
    "# Descargar stopwords en español\n",
    "nltk.download(\"stopwords\")\n",
    "from nltk.corpus import stopwords\n",
    "\n",
    "# Obtener stopwords en español\n",
    "stop_words = set(stopwords.words(\"spanish\"))\n"
   ]
  },
  {
   "cell_type": "markdown",
   "metadata": {
    "id": "kLpaicLXninI"
   },
   "source": [
    "Carga del dataset\n",
    "\n",
    "El archivo  se carga en aproximadamente 10 segundos"
   ]
  },
  {
   "cell_type": "code",
   "execution_count": 45,
   "metadata": {
    "executionInfo": {
     "elapsed": 443,
     "status": "ok",
     "timestamp": 1742313775953,
     "user": {
      "displayName": "Carlos Bustillo",
      "userId": "14895763228834044971"
     },
     "user_tz": 180
    },
    "id": "Xh8VOY5Mnjmo"
   },
   "outputs": [
    {
     "name": "stdout",
     "output_type": "stream",
     "text": [
      "<class 'pandas.core.frame.DataFrame'>\n",
      "Index: 50000 entries, 127841 to 68335\n",
      "Data columns (total 2 columns):\n",
      " #   Column              Non-Null Count  Dtype \n",
      "---  ------              --------------  ----- \n",
      " 0   author_review_desc  50000 non-null  object\n",
      " 1   author_rating       50000 non-null  int64 \n",
      "dtypes: int64(1), object(1)\n",
      "memory usage: 1.1+ MB\n"
     ]
    }
   ],
   "source": [
    "# Usar su ID UPB Ejemplo: \"0028984798\"\n",
    "id_upb = \"000582575\"\n",
    " \n",
    "data_reviews = pd.read_parquet(\n",
    "    \"https://www.dropbox.com/scl/fi/gvk9yj8cn96oocr9z058x/filmaffinity_reviews_dataset.parquet?rlkey=xgvr00zvkxbkwqqavqutpsshg&st=xjb7xze9&dl=1\",\n",
    "    engine=\"fastparquet\"\n",
    ")\n",
    "data_reviews = data_reviews.sample(n=50_000, random_state=int(id_upb))\n",
    "data_reviews.info()"
   ]
  },
  {
   "cell_type": "markdown",
   "metadata": {
    "id": "gGD-mkRRnm01"
   },
   "source": [
    "Ejemplo de algunas filas del dataset"
   ]
  },
  {
   "cell_type": "code",
   "execution_count": 46,
   "metadata": {
    "colab": {
     "base_uri": "https://localhost:8080/",
     "height": 143
    },
    "executionInfo": {
     "elapsed": 56,
     "status": "ok",
     "timestamp": 1742313777216,
     "user": {
      "displayName": "Carlos Bustillo",
      "userId": "14895763228834044971"
     },
     "user_tz": 180
    },
    "id": "rIsJnVvPnnvc",
    "outputId": "a97d6896-3f9b-4a02-88fc-f3e6f84d0602"
   },
   "outputs": [
    {
     "data": {
      "text/html": [
       "<div>\n",
       "<style scoped>\n",
       "    .dataframe tbody tr th:only-of-type {\n",
       "        vertical-align: middle;\n",
       "    }\n",
       "\n",
       "    .dataframe tbody tr th {\n",
       "        vertical-align: top;\n",
       "    }\n",
       "\n",
       "    .dataframe thead th {\n",
       "        text-align: right;\n",
       "    }\n",
       "</style>\n",
       "<table border=\"1\" class=\"dataframe\">\n",
       "  <thead>\n",
       "    <tr style=\"text-align: right;\">\n",
       "      <th></th>\n",
       "      <th>author_review_desc</th>\n",
       "      <th>author_rating</th>\n",
       "    </tr>\n",
       "  </thead>\n",
       "  <tbody>\n",
       "    <tr>\n",
       "      <th>24077</th>\n",
       "      <td>\\nEs sintomático que esta película haya tardad...</td>\n",
       "      <td>7</td>\n",
       "    </tr>\n",
       "    <tr>\n",
       "      <th>4471</th>\n",
       "      <td>\\nPor lo general Zack Snyder es un director qu...</td>\n",
       "      <td>2</td>\n",
       "    </tr>\n",
       "    <tr>\n",
       "      <th>76877</th>\n",
       "      <td>\\nMe lo he pasado teta viendo esta película. E...</td>\n",
       "      <td>8</td>\n",
       "    </tr>\n",
       "    <tr>\n",
       "      <th>91938</th>\n",
       "      <td>\\nUno va al cine a ver esta película con ciert...</td>\n",
       "      <td>5</td>\n",
       "    </tr>\n",
       "    <tr>\n",
       "      <th>106279</th>\n",
       "      <td>\\nPelícula sorprendente que trata el tema de l...</td>\n",
       "      <td>7</td>\n",
       "    </tr>\n",
       "  </tbody>\n",
       "</table>\n",
       "</div>"
      ],
      "text/plain": [
       "                                       author_review_desc  author_rating\n",
       "24077   \\nEs sintomático que esta película haya tardad...              7\n",
       "4471    \\nPor lo general Zack Snyder es un director qu...              2\n",
       "76877   \\nMe lo he pasado teta viendo esta película. E...              8\n",
       "91938   \\nUno va al cine a ver esta película con ciert...              5\n",
       "106279  \\nPelícula sorprendente que trata el tema de l...              7"
      ]
     },
     "execution_count": 46,
     "metadata": {},
     "output_type": "execute_result"
    }
   ],
   "source": [
    "data_reviews.sample(5)"
   ]
  },
  {
   "cell_type": "markdown",
   "metadata": {
    "id": "nKA9UPk6p7bZ"
   },
   "source": [
    "Evaluar los valores nulos"
   ]
  },
  {
   "cell_type": "code",
   "execution_count": 47,
   "metadata": {
    "colab": {
     "base_uri": "https://localhost:8080/",
     "height": 147
    },
    "executionInfo": {
     "elapsed": 47,
     "status": "ok",
     "timestamp": 1742313779074,
     "user": {
      "displayName": "Carlos Bustillo",
      "userId": "14895763228834044971"
     },
     "user_tz": 180
    },
    "id": "2wwqoksvqQFk",
    "outputId": "fea4451b-9936-4eb7-b1b9-14fd83f7c72f"
   },
   "outputs": [
    {
     "data": {
      "text/plain": [
       "author_review_desc    0\n",
       "author_rating         0\n",
       "dtype: int64"
      ]
     },
     "execution_count": 47,
     "metadata": {},
     "output_type": "execute_result"
    }
   ],
   "source": [
    "data_reviews.isnull().sum()"
   ]
  },
  {
   "cell_type": "markdown",
   "metadata": {},
   "source": [
    "En este caso no hay nulos."
   ]
  },
  {
   "cell_type": "markdown",
   "metadata": {},
   "source": [
    "Revisar si hay valores duplicados:"
   ]
  },
  {
   "cell_type": "code",
   "execution_count": 48,
   "metadata": {},
   "outputs": [
    {
     "data": {
      "text/plain": [
       "np.int64(2)"
      ]
     },
     "execution_count": 48,
     "metadata": {},
     "output_type": "execute_result"
    }
   ],
   "source": [
    "data_reviews.duplicated().sum()"
   ]
  },
  {
   "cell_type": "markdown",
   "metadata": {},
   "source": [
    "No hay  valores duplicados."
   ]
  },
  {
   "cell_type": "markdown",
   "metadata": {
    "id": "ZiBcIGoZsQJC"
   },
   "source": [
    "## Clasificación Tradicional para Análisis de Sentimientos y Categorías 👍 👎\n",
    "\n"
   ]
  },
  {
   "cell_type": "markdown",
   "metadata": {
    "id": "FPUGUs9AmA_b"
   },
   "source": [
    "Definición: Se considera reseña positiva cuando la puntuación (\"author_rating\") es mayor que 6; negativa en caso contrario."
   ]
  },
  {
   "cell_type": "markdown",
   "metadata": {
    "id": "7ZTzGi7tmMBN"
   },
   "source": [
    "Crear la variable binaria de sentimiento: 1 (positivo) si author_rating > 6, 0 (negativo) de lo contrario"
   ]
  },
  {
   "cell_type": "code",
   "execution_count": 49,
   "metadata": {
    "executionInfo": {
     "elapsed": 73,
     "status": "ok",
     "timestamp": 1742314413450,
     "user": {
      "displayName": "Carlos Bustillo",
      "userId": "14895763228834044971"
     },
     "user_tz": 180
    },
    "id": "Wu66d05mmKtT"
   },
   "outputs": [],
   "source": [
    "UMBRAL = 6\n",
    "data_reviews[\"sentiment_bin\"] = (data_reviews[\"author_rating\"] > UMBRAL).astype(int)"
   ]
  },
  {
   "cell_type": "code",
   "execution_count": 50,
   "metadata": {},
   "outputs": [],
   "source": [
    "# Dividir los datos en conjuntos de entrenamiento y prueba\n",
    "\n",
    "X_data = data_reviews[\"author_review_desc\"]\n",
    "y_data = data_reviews[\"sentiment_bin\"]\n"
   ]
  },
  {
   "cell_type": "markdown",
   "metadata": {},
   "source": [
    "Dividir el dataset en entrenamiento y prueba"
   ]
  },
  {
   "cell_type": "code",
   "execution_count": 51,
   "metadata": {},
   "outputs": [],
   "source": [
    "X_train, X_test, y_train, y_test = train_test_split(\n",
    "    X_data,\n",
    "    y_data,\n",
    "    test_size=0.2,\n",
    "    stratify=y_data,  # Mantener la proporción de clases en ambos conjuntos\n",
    "    random_state=42,\n",
    ")"
   ]
  },
  {
   "cell_type": "markdown",
   "metadata": {},
   "source": [
    "## Análisis exploratorio de los datos\n",
    "\n",
    "para determinar que tipo de limpieza se debe realizar a los datos de texto de `X_train`"
   ]
  },
  {
   "cell_type": "code",
   "execution_count": 52,
   "metadata": {},
   "outputs": [
    {
     "data": {
      "text/plain": [
       "19328     \\nCuando se habla de Everest, hay que distingu...\n",
       "110861    \\nLe doy un 6.\\n\\nLe doy un 9 bajo los efectos...\n",
       "69646     \\nYa en los créditos iniciales Andrew Dominik ...\n",
       "94461     \\nFue la primera película que vi, en la que se...\n",
       "34522     \\nPeliculón grandioso para la historia del cin...\n",
       "                                ...                        \n",
       "136346    \\nLa serie te engancha con un arco argumental ...\n",
       "10238     \\nFúsi es un cuarentón, soltero, gigante de es...\n",
       "74013     \\nNo he leído a nadie que se queje de la cámar...\n",
       "121614    \\nVuelve Jason Reitman a hacer una película so...\n",
       "38682     \\nCon ocasión de la cena de navidad de 1907, e...\n",
       "Name: author_review_desc, Length: 40000, dtype: object"
      ]
     },
     "execution_count": 52,
     "metadata": {},
     "output_type": "execute_result"
    }
   ],
   "source": [
    "X_train\n"
   ]
  },
  {
   "cell_type": "code",
   "execution_count": 53,
   "metadata": {},
   "outputs": [
    {
     "data": {
      "text/plain": [
       "(40000,)"
      ]
     },
     "execution_count": 53,
     "metadata": {},
     "output_type": "execute_result"
    }
   ],
   "source": [
    "X_train.shape\n"
   ]
  },
  {
   "cell_type": "code",
   "execution_count": 54,
   "metadata": {},
   "outputs": [
    {
     "data": {
      "text/plain": [
       "19328     \\nCuando se habla de Everest, hay que distingu...\n",
       "110861    \\nLe doy un 6.\\n\\nLe doy un 9 bajo los efectos...\n",
       "69646     \\nYa en los créditos iniciales Andrew Dominik ...\n",
       "94461     \\nFue la primera película que vi, en la que se...\n",
       "34522     \\nPeliculón grandioso para la historia del cin...\n",
       "                                ...                        \n",
       "136346    \\nLa serie te engancha con un arco argumental ...\n",
       "10238     \\nFúsi es un cuarentón, soltero, gigante de es...\n",
       "74013     \\nNo he leído a nadie que se queje de la cámar...\n",
       "121614    \\nVuelve Jason Reitman a hacer una película so...\n",
       "38682     \\nCon ocasión de la cena de navidad de 1907, e...\n",
       "Name: author_review_desc, Length: 40000, dtype: object"
      ]
     },
     "execution_count": 54,
     "metadata": {},
     "output_type": "execute_result"
    }
   ],
   "source": [
    "X_train"
   ]
  },
  {
   "cell_type": "code",
   "execution_count": 55,
   "metadata": {},
   "outputs": [
    {
     "name": "stdout",
     "output_type": "stream",
     "text": [
      "Filas: 40000\n",
      "Longitud chars - min / med / max: 28 1082 6031\n",
      "Tokens por reseña - min / med / max: 3 185 1107\n",
      "Pct <5 tokens: 0.0%\n",
      "Pct >200 chars: 98.8%\n",
      "\n",
      "Fracciones especiales:\n",
      "URLs: 3.94%\n",
      "Números: 43.47%\n",
      "HTML tags: 0.32%\n",
      "Emojis/símbolos: 0.00%\n",
      "No-ASCII (posible caracteres especiales): 99.72%\n",
      "\n",
      "Top 20 palabras (simple):\n",
      "de : 514890\n",
      "que : 380823\n",
      "la : 343628\n",
      "y : 292404\n",
      "en : 229484\n",
      "el : 216412\n",
      "a : 188712\n",
      "un : 143320\n",
      "es : 137519\n",
      "una : 132536\n",
      "no : 126394\n",
      "los : 115717\n",
      "con : 107823\n",
      "se : 105296\n",
      "por : 90445\n",
      "lo : 85707\n",
      "del : 74457\n",
      "su : 73650\n",
      "las : 69364\n",
      "película : 66947\n",
      "\n",
      "Ejemplos (primeras 3 reseñas):\n",
      "-  Cuando se habla de Everest, hay que distinguir entre su calidad como película, como producto cinematográfico, y Everest como crónica emotiva de uno de los más trágicos desastres acaecidos en la monta\n",
      "-  Le doy un 6.  Le doy un 9 bajo los efectos de las drogas.   Humor, acción, tias buenas y superpoderes. Muchos no necesitan más que esto para disfrutar de una película. \n",
      "-  Ya en los créditos iniciales Andrew Dominik deja claro que no se trata de la típica producción hollywoodiense, más bien parece una presentación de una película de los setenta de autor muy “indi”, com\n",
      "\n",
      "Ejemplos con URL / emoji / muy cortas:\n",
      "Con URL (hasta 3):\n",
      "['\\nWestern de serie B, dirigida por el destajista de Hollywood R.G. Springsteen que, en esta ocasión, creo sinceramente que consigue uno de sus mejores trabajos, al menos entre los que yo he visto de él, que son un porrón.\\n\\n\\nAquí tiene, para empezar, un buen elenco interpretativo, con nada menos que el simpar Walter Brennan, Ward Bond, Ella Raines, Jeff Corey, Barry Kelley... y bastantes más actores de reparto que tanto lustre daban a sus personajes.\\n\\n\\nSe trata de una película muy entretenida, con toques de humor (los primeros trabajos como sheriff del protagonista), buenos diálogos y en todo momento vistosa, con ese bonito color que le daba el vetusto sistema \"Trucolor\".\\n\\n\\nResulta entrañable por sus decorados, con esas montañas tan bonitas de cartón que bordean el pueblo, que no pretenden en ningún momento dar el pego, sino que están construidos ex-profeso para el regocijo del espectador.\\n\\n\\nMuy amena, hace pasar un buen rato, dejando un buen sabor de boca.\\n\\n\\nEl protagonista es Vauhg Monroe, cantante de éxito de la época, que con su canción \"Mule Train\" consiguió una nominación al Óscar. Buen cantante, de voz profunda que, sin embargo, como actor es bastante limitado.\\n\\n\\nhttps://filmsencajatonta.blogspot.com/\\n', '\\n\"- Es un shock perder la guerra, pero es un shock mayor saber que estabas en el bando equivocado\".\\n\\n\\nFilm proveniente del Reino Unido, que tiene como mayores virtudes, primero, que está llena de buenos sentimientos, aunque haya alguna consideración en contra que hacer. Y segunda, que contiene una excelente y creíble interpretación de Pierce Brosnan, encarnando de forma veraz a un hombre de nada menos 92 años edad. \\n\\n\\nSus andares, sus movimientos corporales en general, la mirada perdida, la voz, todo encaja y no era tarea fácil al tener 22 años menos en realidad.\\n\\n\\nLa película se sigue sin dificultad aunque no emociona gran cosa, si exceptuamos la últimas imágenes del film, mientras comienzan a verse los títulos de crédito finales.\\n\\nPero no sorprende dado que, en realidad, es exactamente como yo pensaba que sería antes de verla. Tiene un ritmo romo, es cálida aunque el dolor del personaje se nos presente en todo momento, y entretiene de forma tranquila, sin aspavientos ni escenas desgarradoras.\\n\\n\\nVan apareciendo diversos personajes, la mayoría positivos, que van ayudando al protagonista en su viaje y los elementos técnicos con muy competentes, como la preciosa fotografía de Mark McCaluley y la precisa banda sonora de Stephen Warbeck.\\n\\n\\nEn cuanto a lo, único, que no me ha gustado y me ha repateado bastante, es lo que indico en la frase del comienzo, realizada por el veterano alemán. La verdad es que, personalmente, me ha rechinado. Después de comentar cómo fue su incorporación al frente y aspectos anteriores, esa frase suena a falsa e impostada. Que no me la creo, vaya.\\n\\n\\nPero, en líneas generales, se ve bien y resulta agradable.\\n\\n\\nhttps://filmsencajatonta.blogspot.com/\\n', '\\nEntretenida película de genuino género fantástico, adaptación de la obra de Gerald Mainwaring.\\n\\nViéndola más de cincuenta años después de su realización podemos contemplar que todo tiene sabor añejo en cuanto a colorido e incluso efectos especiales, que con todo y con eso es lo mejor de la función, sobre todo en sus minutos finales con la destrucción apoteósica, que todavía conserva buen aroma cinematográfico.\\n\\nLa historia es muy parecida a otras producciones, un lugar donde hombres malvados y corruptos quieren tomar el poder para poder así dominar el mundo, nada menos, con la invención de una terrible y mortífera arma jamás vista.\\n\\nLos intérpretes lo hacen bien, aunque el protagonista sea un poco soso. Pero los secundarios están en su papel.\\n\\nComo curiosidad ver en el papel del jefe de los malvados guardianes a William Smith, el inolvidable \"Falconetti\" de las exitosa y añorada serie \"Hombre rico, hombre pobre\", que tanto recordamos.\\n\\nEn definitiva, para pasar el rato, todavía tiene un pase.\\n\\n\\nhttp://filmsencajatonta.blogspot.com.es/\\n']\n",
      "Con emoji (hasta 3):\n",
      "[]\n",
      "Muy cortas (<10 chars): []\n"
     ]
    }
   ],
   "source": [
    "# ...existing code...\n",
    "# Análisis exploratorio simple para X_train\n",
    "import re\n",
    "from collections import Counter\n",
    "import numpy as np\n",
    "\n",
    "texts = X_train.dropna().astype(str).reset_index(drop=True)\n",
    "\n",
    "# Estadísticas básicas\n",
    "n = len(texts)\n",
    "lengths = texts.str.len()\n",
    "tokens_per = texts.str.split().map(len)\n",
    "\n",
    "print(\"Filas:\", n)\n",
    "print(\n",
    "    \"Longitud chars - min / med / max:\",\n",
    "    int(lengths.min()),\n",
    "    int(lengths.median()),\n",
    "    int(lengths.max()),\n",
    ")\n",
    "print(\n",
    "    \"Tokens por reseña - min / med / max:\",\n",
    "    int(tokens_per.min()),\n",
    "    int(tokens_per.median()),\n",
    "    int(tokens_per.max()),\n",
    ")\n",
    "print(\"Pct <5 tokens: {:.1%}\".format((tokens_per < 5).mean()))\n",
    "print(\"Pct >200 chars: {:.1%}\".format((lengths > 200).mean()))\n",
    "\n",
    "# Detectar elementos especiales\n",
    "re_url = re.compile(r\"https?://\\S+|www\\.\\S+\")\n",
    "re_num = re.compile(r\"\\d+\")\n",
    "re_html = re.compile(r\"<[^>]+>\")\n",
    "re_emoji = re.compile(\n",
    "    \"[\\U0001f600-\\U0001f64f\\U0001f300-\\U0001f5ff\\U0001f680-\\U0001f6ff\\U0001f1e0-\\U0001f1ff]+\",\n",
    "    flags=re.UNICODE,\n",
    ")\n",
    "\n",
    "\n",
    "def frac(pat):\n",
    "    return texts.str.contains(pat).mean()\n",
    "\n",
    "\n",
    "print(\"\\nFracciones especiales:\")\n",
    "print(\"URLs: {:.2%}\".format(frac(re_url)))\n",
    "print(\"Números: {:.2%}\".format(frac(re_num)))\n",
    "print(\"HTML tags: {:.2%}\".format(frac(re_html)))\n",
    "print(\"Emojis/símbolos: {:.2%}\".format(frac(re_emoji)))\n",
    "print(\n",
    "    \"No-ASCII (posible caracteres especiales): {:.2%}\".format(\n",
    "        texts.apply(lambda s: s.encode(\"ascii\", errors=\"ignore\").decode() != s).mean()\n",
    "    )\n",
    ")\n",
    "\n",
    "# Top palabras (tokenización sencilla, sólo letras)\n",
    "word_re = re.compile(r\"\\b[a-záéíóúñü]+\\b\", flags=re.IGNORECASE)\n",
    "counter = Counter()\n",
    "for s in texts.str.lower():\n",
    "    counter.update(word_re.findall(s))\n",
    "top20 = counter.most_common(20)\n",
    "print(\"\\nTop 20 palabras (simple):\")\n",
    "for w, c in top20:\n",
    "    print(f\"{w} : {c}\")\n",
    "\n",
    "# Ejemplos útiles\n",
    "print(\"\\nEjemplos (primeras 3 reseñas):\")\n",
    "for e in texts.head(3):\n",
    "    print(\"-\", e[:200].replace(\"\\n\", \" \"))\n",
    "\n",
    "print(\"\\nEjemplos con URL / emoji / muy cortas:\")\n",
    "print(\"Con URL (hasta 3):\")\n",
    "print(texts[texts.str.contains(re_url)].head(3).tolist())\n",
    "print(\"Con emoji (hasta 3):\")\n",
    "print(texts[texts.str.contains(re_emoji)].head(3).tolist())\n",
    "print(\"Muy cortas (<10 chars):\", texts[texts.str.len() < 10].head(5).tolist())\n",
    "# ...existing code...\n"
   ]
  },
  {
   "cell_type": "markdown",
   "metadata": {},
   "source": [
    "## 1) Limpieza de los datos de texto\n",
    "\n",
    "Tomar los datos de `X_train` y aplicar las funciones de limpieza que considere necesarias\n",
    "\n",
    "Ayudas:\n",
    "\n",
    "- Convertir a minúsculas\n",
    "- Eliminar caracteres especiales y números\n",
    "- Corregir palabras mal escritas\n",
    "- etc\n"
   ]
  },
  {
   "cell_type": "code",
   "execution_count": 56,
   "metadata": {},
   "outputs": [
    {
     "name": "stdout",
     "output_type": "stream",
     "text": [
      "Ejemplos (primeras 5) — texto original -> texto limpio:\n",
      "----\n",
      "ORIG:  Cuando se habla de Everest, hay que distinguir entre su calidad como película, como producto cinematográfico, y Everest como crónica emotiva de uno de los más trágicos desastres acaecidos en la monta\n",
      "CLEAN: habla everest distinguir calidad película producto cinematográfico everest crónica emotiva trágicos desastres acaecidos montaña alta mundo primero triunfa segundo fracasa resultado decir película nota\n",
      "----\n",
      "ORIG:  Le doy un 6.  Le doy un 9 bajo los efectos de las drogas.   Humor, acción, tias buenas y superpoderes. Muchos no necesitan más que esto para disfrutar de una película. \n",
      "CLEAN: doy doy bajo efectos drogas humor acción tias buenas superpoderes necesitan disfrutar película\n",
      "----\n",
      "ORIG:  Ya en los créditos iniciales Andrew Dominik deja claro que no se trata de la típica producción hollywoodiense, más bien parece una presentación de una película de los setenta de autor muy “indi”, com\n",
      "CLEAN: créditos iniciales andrew dominik deja claro trata típica producción hollywoodiense bien parece presentación película setenta autor indi si homenaje marguerite duras adentrarnos clima digno kaurism ki\n",
      "----\n",
      "ORIG:  Fue la primera película que vi, en la que se trataba de forma cómica e irónica en forma de parodia diferentes éxitos de los años 80 de acción, y para mi gusto es la mejor de todas, la que abrió el ca\n",
      "CLEAN: primera película vi trataba forma cómica irónica forma parodia diferentes éxitos años acción gusto mejor todas abrió camino hacia ahora esperpénticas scary movie date movie epic movie etc película hab\n",
      "----\n",
      "ORIG:  Peliculón grandioso para la historia del cine. Simplemente es una película hecha para entretener, para cumplir lo que yo creo que es la razón de existir del cine. Lo tiene todo: el personaje protagon\n",
      "CLEAN: peliculón grandioso historia cine simplemente película hecha entretener cumplir creo razón existir cine personaje protagonista polivalente hombre puede salir éxito cualquier situación adversa ambienta\n",
      "Limpiando X_train...\n",
      "Limpiando X_test...\n",
      "\n",
      "Dimensiones de los datos:\n",
      "X_train_limpio: (40000,)\n",
      "X_test_limpio: (10000,)\n"
     ]
    }
   ],
   "source": [
    "# Celda: Limpieza simple de texto\n",
    "import re\n",
    "import pandas as pd\n",
    "\n",
    "\n",
    "def clean_text(s: str) -> str:\n",
    "    if pd.isna(s):\n",
    "        return \"\"\n",
    "    s = str(s).lower()\n",
    "    # Quitar URLs, emails y tags HTML\n",
    "    s = re.sub(r\"https?://\\S+|www\\.\\S+\", \" \", s)\n",
    "    s = re.sub(r\"\\S+@\\S+\\.\\S+\", \" \", s)\n",
    "    s = re.sub(r\"<[^>]+>\", \" \", s)\n",
    "    # Quitar números\n",
    "    s = re.sub(r\"\\d+\", \" \", s)\n",
    "    # Conservar letras (incluye vocales acentuadas, ñ, ü) y espacios; eliminar otros símbolos\n",
    "    s = re.sub(r\"[^a-záéíóúñü\\s]\", \" \", s)\n",
    "    # Normalizar espacios\n",
    "    s = re.sub(r\"\\s+\", \" \", s).strip()\n",
    "    # Tokenización y eliminación de stopwords\n",
    "    tokens = s.split()\n",
    "    tokens = [token for token in tokens if token not in stop_words]\n",
    "\n",
    "    # Unir tokens sin stopwords\n",
    "    s = \" \".join(tokens)\n",
    "    return s\n",
    "\n",
    "\n",
    "# Aplicar limpieza a X_train y crear X_train_clean\n",
    "X_train_clean = X_train.fillna(\"\").astype(str).map(clean_text)\n",
    "\n",
    "# Mostrar resultados resumidos\n",
    "print(\"Ejemplos (primeras 5) — texto original -> texto limpio:\")\n",
    "for orig, clean in zip(X_train.head(5).tolist(), X_train_clean.head(5).tolist()):\n",
    "    print(\"----\")\n",
    "    print(\"ORIG:\", (orig or \"\")[:200].replace(\"\\n\", \" \"))\n",
    "    print(\"CLEAN:\", clean[:200])\n",
    "\n",
    "# Aplicar la limpieza a todo X_train\n",
    "print(\"Limpiando X_train...\")\n",
    "X_train_limpio = X_train.apply(clean_text)\n",
    "\n",
    "# Aplicar la limpieza a X_test para mantener consistencia\n",
    "print(\"Limpiando X_test...\")\n",
    "X_test_limpio = X_test.apply(clean_text)\n",
    "\n",
    "# Verificar las dimensiones\n",
    "print(\"\\nDimensiones de los datos:\")\n",
    "print(f\"X_train_limpio: {X_train_limpio.shape}\")\n",
    "print(f\"X_test_limpio: {X_test_limpio.shape}\")\n"
   ]
  },
  {
   "cell_type": "markdown",
   "metadata": {},
   "source": [
    "## 2) Representacion del texto\n",
    "\n",
    "Luego de tener los datos limpios, realizar la representación de los datos de texto para poder usarse en modelos de machine learning."
   ]
  },
  {
   "cell_type": "code",
   "execution_count": 59,
   "metadata": {},
   "outputs": [
    {
     "name": "stdout",
     "output_type": "stream",
     "text": [
      "Dimensiones de la matriz Bag-of-Words: (40000, 140254)\n",
      "Ejemplo de términos (BoW): ['idealizaría' 'corales' 'hiperfantasma' 'cambiaran' 'mitic' 'calurosos'\n",
      " 'vellocino' 'eviscerado' 'supervalorada' 'calvinismo']\n"
     ]
    }
   ],
   "source": [
    "cv = CountVectorizer()\n",
    "bow_matrix = cv.fit_transform(X_train_limpio)\n",
    "\n",
    "print(\"Dimensiones de la matriz Bag-of-Words:\", bow_matrix.shape)\n",
    "print(\n",
    "    \"Ejemplo de términos (BoW):\",\n",
    "    np.random.choice(cv.get_feature_names_out(), size=10, replace=False),\n",
    ")\n"
   ]
  },
  {
   "cell_type": "code",
   "execution_count": 60,
   "metadata": {},
   "outputs": [
    {
     "name": "stdout",
     "output_type": "stream",
     "text": [
      "Dimensiones de la matriz TF-IDF: (40000, 140254)\n",
      "Ejemplo de términos (TF-IDF): ['alargo' 'esquematización' 'desmenuzo' 'devoluciones' 'bicicleta' 'meets'\n",
      " 'presentarnoslo' 'docencia' 'relinchos' 'deméritos']\n"
     ]
    }
   ],
   "source": [
    "tfidf = TfidfVectorizer()\n",
    "tfidf_matrix = tfidf.fit_transform(X_train_limpio)\n",
    "\n",
    "print(\"Dimensiones de la matriz TF-IDF:\", tfidf_matrix.shape)\n",
    "print(\n",
    "    \"Ejemplo de términos (TF-IDF):\",\n",
    "    np.random.choice(tfidf.get_feature_names_out(), size=10, replace=False),\n",
    ")\n"
   ]
  },
  {
   "cell_type": "code",
   "execution_count": 61,
   "metadata": {},
   "outputs": [
    {
     "name": "stdout",
     "output_type": "stream",
     "text": [
      "\n",
      "Ejemplo aleatorio de 10 términos con su probabilidad (TF-IDF medio normalizado):\n",
      "              term  mean_tfidf   probability\n",
      "0             rock    0.000708  8.207116e-05\n",
      "1        ninotchka    0.000015  1.779570e-06\n",
      "2           miklós    0.000009  9.944111e-07\n",
      "3         fraseado    0.000006  7.420270e-07\n",
      "4           bullas    0.000005  5.266733e-07\n",
      "5             oide    0.000004  4.875247e-07\n",
      "6        entrecasa    0.000004  4.854708e-07\n",
      "7           viñedo    0.000004  4.152911e-07\n",
      "8  condicionándola    0.000003  3.920247e-07\n",
      "9        profanada    0.000003  3.006788e-07\n"
     ]
    }
   ],
   "source": [
    "# Obtener nombres de términos y TF-IDF promedio por término en todo el corpus\n",
    "feature_names = tfidf.get_feature_names_out()\n",
    "mean_tfidf = np.asarray(tfidf_matrix.mean(axis=0)).ravel()\n",
    "\n",
    "# Normalizar para interpretar como \"probabilidades\" (suma 1)\n",
    "total = mean_tfidf.sum()\n",
    "probs = mean_tfidf / total if total > 0 else np.zeros_like(mean_tfidf)\n",
    "\n",
    "# DataFrame con término, tfidf medio y probabilidad normalizada\n",
    "df_terms = pd.DataFrame(\n",
    "    {\n",
    "        \"term\": feature_names,\n",
    "        \"mean_tfidf\": mean_tfidf,\n",
    "        \"probability\": probs,\n",
    "    }\n",
    ")\n",
    "\n",
    "print(\n",
    "    \"\\nEjemplo aleatorio de 10 términos con su probabilidad (TF-IDF medio normalizado):\"\n",
    ")\n",
    "print(\n",
    "    df_terms.sample(10, random_state=2025)\n",
    "    .sort_values(\"probability\", ascending=False)\n",
    "    .reset_index(drop=True)\n",
    ")\n"
   ]
  },
  {
   "cell_type": "markdown",
   "metadata": {
    "id": "3Yvvopa2mVox"
   },
   "source": [
    "## 3) Entrenar un modelo de machine learning de clasificación\n",
    "\n",
    "Utilizar un modelo de clasificación para entrenar y evaluar el modelo con los datos preparados.\n"
   ]
  },
  {
   "cell_type": "code",
   "execution_count": 64,
   "metadata": {
    "colab": {
     "base_uri": "https://localhost:8080/",
     "height": 80
    },
    "executionInfo": {
     "elapsed": 86,
     "status": "ok",
     "timestamp": 1742314553868,
     "user": {
      "displayName": "Carlos Bustillo",
      "userId": "14895763228834044971"
     },
     "user_tz": 180
    },
    "id": "Xm_vBOhymWjZ",
    "outputId": "1f7e8842-fdb5-4580-998a-797d8c69e20a"
   },
   "outputs": [
    {
     "data": {
      "text/html": [
       "<style>#sk-container-id-1 {\n",
       "  /* Definition of color scheme common for light and dark mode */\n",
       "  --sklearn-color-text: #000;\n",
       "  --sklearn-color-text-muted: #666;\n",
       "  --sklearn-color-line: gray;\n",
       "  /* Definition of color scheme for unfitted estimators */\n",
       "  --sklearn-color-unfitted-level-0: #fff5e6;\n",
       "  --sklearn-color-unfitted-level-1: #f6e4d2;\n",
       "  --sklearn-color-unfitted-level-2: #ffe0b3;\n",
       "  --sklearn-color-unfitted-level-3: chocolate;\n",
       "  /* Definition of color scheme for fitted estimators */\n",
       "  --sklearn-color-fitted-level-0: #f0f8ff;\n",
       "  --sklearn-color-fitted-level-1: #d4ebff;\n",
       "  --sklearn-color-fitted-level-2: #b3dbfd;\n",
       "  --sklearn-color-fitted-level-3: cornflowerblue;\n",
       "\n",
       "  /* Specific color for light theme */\n",
       "  --sklearn-color-text-on-default-background: var(--sg-text-color, var(--theme-code-foreground, var(--jp-content-font-color1, black)));\n",
       "  --sklearn-color-background: var(--sg-background-color, var(--theme-background, var(--jp-layout-color0, white)));\n",
       "  --sklearn-color-border-box: var(--sg-text-color, var(--theme-code-foreground, var(--jp-content-font-color1, black)));\n",
       "  --sklearn-color-icon: #696969;\n",
       "\n",
       "  @media (prefers-color-scheme: dark) {\n",
       "    /* Redefinition of color scheme for dark theme */\n",
       "    --sklearn-color-text-on-default-background: var(--sg-text-color, var(--theme-code-foreground, var(--jp-content-font-color1, white)));\n",
       "    --sklearn-color-background: var(--sg-background-color, var(--theme-background, var(--jp-layout-color0, #111)));\n",
       "    --sklearn-color-border-box: var(--sg-text-color, var(--theme-code-foreground, var(--jp-content-font-color1, white)));\n",
       "    --sklearn-color-icon: #878787;\n",
       "  }\n",
       "}\n",
       "\n",
       "#sk-container-id-1 {\n",
       "  color: var(--sklearn-color-text);\n",
       "}\n",
       "\n",
       "#sk-container-id-1 pre {\n",
       "  padding: 0;\n",
       "}\n",
       "\n",
       "#sk-container-id-1 input.sk-hidden--visually {\n",
       "  border: 0;\n",
       "  clip: rect(1px 1px 1px 1px);\n",
       "  clip: rect(1px, 1px, 1px, 1px);\n",
       "  height: 1px;\n",
       "  margin: -1px;\n",
       "  overflow: hidden;\n",
       "  padding: 0;\n",
       "  position: absolute;\n",
       "  width: 1px;\n",
       "}\n",
       "\n",
       "#sk-container-id-1 div.sk-dashed-wrapped {\n",
       "  border: 1px dashed var(--sklearn-color-line);\n",
       "  margin: 0 0.4em 0.5em 0.4em;\n",
       "  box-sizing: border-box;\n",
       "  padding-bottom: 0.4em;\n",
       "  background-color: var(--sklearn-color-background);\n",
       "}\n",
       "\n",
       "#sk-container-id-1 div.sk-container {\n",
       "  /* jupyter's `normalize.less` sets `[hidden] { display: none; }`\n",
       "     but bootstrap.min.css set `[hidden] { display: none !important; }`\n",
       "     so we also need the `!important` here to be able to override the\n",
       "     default hidden behavior on the sphinx rendered scikit-learn.org.\n",
       "     See: https://github.com/scikit-learn/scikit-learn/issues/21755 */\n",
       "  display: inline-block !important;\n",
       "  position: relative;\n",
       "}\n",
       "\n",
       "#sk-container-id-1 div.sk-text-repr-fallback {\n",
       "  display: none;\n",
       "}\n",
       "\n",
       "div.sk-parallel-item,\n",
       "div.sk-serial,\n",
       "div.sk-item {\n",
       "  /* draw centered vertical line to link estimators */\n",
       "  background-image: linear-gradient(var(--sklearn-color-text-on-default-background), var(--sklearn-color-text-on-default-background));\n",
       "  background-size: 2px 100%;\n",
       "  background-repeat: no-repeat;\n",
       "  background-position: center center;\n",
       "}\n",
       "\n",
       "/* Parallel-specific style estimator block */\n",
       "\n",
       "#sk-container-id-1 div.sk-parallel-item::after {\n",
       "  content: \"\";\n",
       "  width: 100%;\n",
       "  border-bottom: 2px solid var(--sklearn-color-text-on-default-background);\n",
       "  flex-grow: 1;\n",
       "}\n",
       "\n",
       "#sk-container-id-1 div.sk-parallel {\n",
       "  display: flex;\n",
       "  align-items: stretch;\n",
       "  justify-content: center;\n",
       "  background-color: var(--sklearn-color-background);\n",
       "  position: relative;\n",
       "}\n",
       "\n",
       "#sk-container-id-1 div.sk-parallel-item {\n",
       "  display: flex;\n",
       "  flex-direction: column;\n",
       "}\n",
       "\n",
       "#sk-container-id-1 div.sk-parallel-item:first-child::after {\n",
       "  align-self: flex-end;\n",
       "  width: 50%;\n",
       "}\n",
       "\n",
       "#sk-container-id-1 div.sk-parallel-item:last-child::after {\n",
       "  align-self: flex-start;\n",
       "  width: 50%;\n",
       "}\n",
       "\n",
       "#sk-container-id-1 div.sk-parallel-item:only-child::after {\n",
       "  width: 0;\n",
       "}\n",
       "\n",
       "/* Serial-specific style estimator block */\n",
       "\n",
       "#sk-container-id-1 div.sk-serial {\n",
       "  display: flex;\n",
       "  flex-direction: column;\n",
       "  align-items: center;\n",
       "  background-color: var(--sklearn-color-background);\n",
       "  padding-right: 1em;\n",
       "  padding-left: 1em;\n",
       "}\n",
       "\n",
       "\n",
       "/* Toggleable style: style used for estimator/Pipeline/ColumnTransformer box that is\n",
       "clickable and can be expanded/collapsed.\n",
       "- Pipeline and ColumnTransformer use this feature and define the default style\n",
       "- Estimators will overwrite some part of the style using the `sk-estimator` class\n",
       "*/\n",
       "\n",
       "/* Pipeline and ColumnTransformer style (default) */\n",
       "\n",
       "#sk-container-id-1 div.sk-toggleable {\n",
       "  /* Default theme specific background. It is overwritten whether we have a\n",
       "  specific estimator or a Pipeline/ColumnTransformer */\n",
       "  background-color: var(--sklearn-color-background);\n",
       "}\n",
       "\n",
       "/* Toggleable label */\n",
       "#sk-container-id-1 label.sk-toggleable__label {\n",
       "  cursor: pointer;\n",
       "  display: flex;\n",
       "  width: 100%;\n",
       "  margin-bottom: 0;\n",
       "  padding: 0.5em;\n",
       "  box-sizing: border-box;\n",
       "  text-align: center;\n",
       "  align-items: start;\n",
       "  justify-content: space-between;\n",
       "  gap: 0.5em;\n",
       "}\n",
       "\n",
       "#sk-container-id-1 label.sk-toggleable__label .caption {\n",
       "  font-size: 0.6rem;\n",
       "  font-weight: lighter;\n",
       "  color: var(--sklearn-color-text-muted);\n",
       "}\n",
       "\n",
       "#sk-container-id-1 label.sk-toggleable__label-arrow:before {\n",
       "  /* Arrow on the left of the label */\n",
       "  content: \"▸\";\n",
       "  float: left;\n",
       "  margin-right: 0.25em;\n",
       "  color: var(--sklearn-color-icon);\n",
       "}\n",
       "\n",
       "#sk-container-id-1 label.sk-toggleable__label-arrow:hover:before {\n",
       "  color: var(--sklearn-color-text);\n",
       "}\n",
       "\n",
       "/* Toggleable content - dropdown */\n",
       "\n",
       "#sk-container-id-1 div.sk-toggleable__content {\n",
       "  display: none;\n",
       "  text-align: left;\n",
       "  /* unfitted */\n",
       "  background-color: var(--sklearn-color-unfitted-level-0);\n",
       "}\n",
       "\n",
       "#sk-container-id-1 div.sk-toggleable__content.fitted {\n",
       "  /* fitted */\n",
       "  background-color: var(--sklearn-color-fitted-level-0);\n",
       "}\n",
       "\n",
       "#sk-container-id-1 div.sk-toggleable__content pre {\n",
       "  margin: 0.2em;\n",
       "  border-radius: 0.25em;\n",
       "  color: var(--sklearn-color-text);\n",
       "  /* unfitted */\n",
       "  background-color: var(--sklearn-color-unfitted-level-0);\n",
       "}\n",
       "\n",
       "#sk-container-id-1 div.sk-toggleable__content.fitted pre {\n",
       "  /* unfitted */\n",
       "  background-color: var(--sklearn-color-fitted-level-0);\n",
       "}\n",
       "\n",
       "#sk-container-id-1 input.sk-toggleable__control:checked~div.sk-toggleable__content {\n",
       "  /* Expand drop-down */\n",
       "  display: block;\n",
       "  width: 100%;\n",
       "  overflow: visible;\n",
       "}\n",
       "\n",
       "#sk-container-id-1 input.sk-toggleable__control:checked~label.sk-toggleable__label-arrow:before {\n",
       "  content: \"▾\";\n",
       "}\n",
       "\n",
       "/* Pipeline/ColumnTransformer-specific style */\n",
       "\n",
       "#sk-container-id-1 div.sk-label input.sk-toggleable__control:checked~label.sk-toggleable__label {\n",
       "  color: var(--sklearn-color-text);\n",
       "  background-color: var(--sklearn-color-unfitted-level-2);\n",
       "}\n",
       "\n",
       "#sk-container-id-1 div.sk-label.fitted input.sk-toggleable__control:checked~label.sk-toggleable__label {\n",
       "  background-color: var(--sklearn-color-fitted-level-2);\n",
       "}\n",
       "\n",
       "/* Estimator-specific style */\n",
       "\n",
       "/* Colorize estimator box */\n",
       "#sk-container-id-1 div.sk-estimator input.sk-toggleable__control:checked~label.sk-toggleable__label {\n",
       "  /* unfitted */\n",
       "  background-color: var(--sklearn-color-unfitted-level-2);\n",
       "}\n",
       "\n",
       "#sk-container-id-1 div.sk-estimator.fitted input.sk-toggleable__control:checked~label.sk-toggleable__label {\n",
       "  /* fitted */\n",
       "  background-color: var(--sklearn-color-fitted-level-2);\n",
       "}\n",
       "\n",
       "#sk-container-id-1 div.sk-label label.sk-toggleable__label,\n",
       "#sk-container-id-1 div.sk-label label {\n",
       "  /* The background is the default theme color */\n",
       "  color: var(--sklearn-color-text-on-default-background);\n",
       "}\n",
       "\n",
       "/* On hover, darken the color of the background */\n",
       "#sk-container-id-1 div.sk-label:hover label.sk-toggleable__label {\n",
       "  color: var(--sklearn-color-text);\n",
       "  background-color: var(--sklearn-color-unfitted-level-2);\n",
       "}\n",
       "\n",
       "/* Label box, darken color on hover, fitted */\n",
       "#sk-container-id-1 div.sk-label.fitted:hover label.sk-toggleable__label.fitted {\n",
       "  color: var(--sklearn-color-text);\n",
       "  background-color: var(--sklearn-color-fitted-level-2);\n",
       "}\n",
       "\n",
       "/* Estimator label */\n",
       "\n",
       "#sk-container-id-1 div.sk-label label {\n",
       "  font-family: monospace;\n",
       "  font-weight: bold;\n",
       "  display: inline-block;\n",
       "  line-height: 1.2em;\n",
       "}\n",
       "\n",
       "#sk-container-id-1 div.sk-label-container {\n",
       "  text-align: center;\n",
       "}\n",
       "\n",
       "/* Estimator-specific */\n",
       "#sk-container-id-1 div.sk-estimator {\n",
       "  font-family: monospace;\n",
       "  border: 1px dotted var(--sklearn-color-border-box);\n",
       "  border-radius: 0.25em;\n",
       "  box-sizing: border-box;\n",
       "  margin-bottom: 0.5em;\n",
       "  /* unfitted */\n",
       "  background-color: var(--sklearn-color-unfitted-level-0);\n",
       "}\n",
       "\n",
       "#sk-container-id-1 div.sk-estimator.fitted {\n",
       "  /* fitted */\n",
       "  background-color: var(--sklearn-color-fitted-level-0);\n",
       "}\n",
       "\n",
       "/* on hover */\n",
       "#sk-container-id-1 div.sk-estimator:hover {\n",
       "  /* unfitted */\n",
       "  background-color: var(--sklearn-color-unfitted-level-2);\n",
       "}\n",
       "\n",
       "#sk-container-id-1 div.sk-estimator.fitted:hover {\n",
       "  /* fitted */\n",
       "  background-color: var(--sklearn-color-fitted-level-2);\n",
       "}\n",
       "\n",
       "/* Specification for estimator info (e.g. \"i\" and \"?\") */\n",
       "\n",
       "/* Common style for \"i\" and \"?\" */\n",
       "\n",
       ".sk-estimator-doc-link,\n",
       "a:link.sk-estimator-doc-link,\n",
       "a:visited.sk-estimator-doc-link {\n",
       "  float: right;\n",
       "  font-size: smaller;\n",
       "  line-height: 1em;\n",
       "  font-family: monospace;\n",
       "  background-color: var(--sklearn-color-background);\n",
       "  border-radius: 1em;\n",
       "  height: 1em;\n",
       "  width: 1em;\n",
       "  text-decoration: none !important;\n",
       "  margin-left: 0.5em;\n",
       "  text-align: center;\n",
       "  /* unfitted */\n",
       "  border: var(--sklearn-color-unfitted-level-1) 1pt solid;\n",
       "  color: var(--sklearn-color-unfitted-level-1);\n",
       "}\n",
       "\n",
       ".sk-estimator-doc-link.fitted,\n",
       "a:link.sk-estimator-doc-link.fitted,\n",
       "a:visited.sk-estimator-doc-link.fitted {\n",
       "  /* fitted */\n",
       "  border: var(--sklearn-color-fitted-level-1) 1pt solid;\n",
       "  color: var(--sklearn-color-fitted-level-1);\n",
       "}\n",
       "\n",
       "/* On hover */\n",
       "div.sk-estimator:hover .sk-estimator-doc-link:hover,\n",
       ".sk-estimator-doc-link:hover,\n",
       "div.sk-label-container:hover .sk-estimator-doc-link:hover,\n",
       ".sk-estimator-doc-link:hover {\n",
       "  /* unfitted */\n",
       "  background-color: var(--sklearn-color-unfitted-level-3);\n",
       "  color: var(--sklearn-color-background);\n",
       "  text-decoration: none;\n",
       "}\n",
       "\n",
       "div.sk-estimator.fitted:hover .sk-estimator-doc-link.fitted:hover,\n",
       ".sk-estimator-doc-link.fitted:hover,\n",
       "div.sk-label-container:hover .sk-estimator-doc-link.fitted:hover,\n",
       ".sk-estimator-doc-link.fitted:hover {\n",
       "  /* fitted */\n",
       "  background-color: var(--sklearn-color-fitted-level-3);\n",
       "  color: var(--sklearn-color-background);\n",
       "  text-decoration: none;\n",
       "}\n",
       "\n",
       "/* Span, style for the box shown on hovering the info icon */\n",
       ".sk-estimator-doc-link span {\n",
       "  display: none;\n",
       "  z-index: 9999;\n",
       "  position: relative;\n",
       "  font-weight: normal;\n",
       "  right: .2ex;\n",
       "  padding: .5ex;\n",
       "  margin: .5ex;\n",
       "  width: min-content;\n",
       "  min-width: 20ex;\n",
       "  max-width: 50ex;\n",
       "  color: var(--sklearn-color-text);\n",
       "  box-shadow: 2pt 2pt 4pt #999;\n",
       "  /* unfitted */\n",
       "  background: var(--sklearn-color-unfitted-level-0);\n",
       "  border: .5pt solid var(--sklearn-color-unfitted-level-3);\n",
       "}\n",
       "\n",
       ".sk-estimator-doc-link.fitted span {\n",
       "  /* fitted */\n",
       "  background: var(--sklearn-color-fitted-level-0);\n",
       "  border: var(--sklearn-color-fitted-level-3);\n",
       "}\n",
       "\n",
       ".sk-estimator-doc-link:hover span {\n",
       "  display: block;\n",
       "}\n",
       "\n",
       "/* \"?\"-specific style due to the `<a>` HTML tag */\n",
       "\n",
       "#sk-container-id-1 a.estimator_doc_link {\n",
       "  float: right;\n",
       "  font-size: 1rem;\n",
       "  line-height: 1em;\n",
       "  font-family: monospace;\n",
       "  background-color: var(--sklearn-color-background);\n",
       "  border-radius: 1rem;\n",
       "  height: 1rem;\n",
       "  width: 1rem;\n",
       "  text-decoration: none;\n",
       "  /* unfitted */\n",
       "  color: var(--sklearn-color-unfitted-level-1);\n",
       "  border: var(--sklearn-color-unfitted-level-1) 1pt solid;\n",
       "}\n",
       "\n",
       "#sk-container-id-1 a.estimator_doc_link.fitted {\n",
       "  /* fitted */\n",
       "  border: var(--sklearn-color-fitted-level-1) 1pt solid;\n",
       "  color: var(--sklearn-color-fitted-level-1);\n",
       "}\n",
       "\n",
       "/* On hover */\n",
       "#sk-container-id-1 a.estimator_doc_link:hover {\n",
       "  /* unfitted */\n",
       "  background-color: var(--sklearn-color-unfitted-level-3);\n",
       "  color: var(--sklearn-color-background);\n",
       "  text-decoration: none;\n",
       "}\n",
       "\n",
       "#sk-container-id-1 a.estimator_doc_link.fitted:hover {\n",
       "  /* fitted */\n",
       "  background-color: var(--sklearn-color-fitted-level-3);\n",
       "}\n",
       "\n",
       ".estimator-table summary {\n",
       "    padding: .5rem;\n",
       "    font-family: monospace;\n",
       "    cursor: pointer;\n",
       "}\n",
       "\n",
       ".estimator-table details[open] {\n",
       "    padding-left: 0.1rem;\n",
       "    padding-right: 0.1rem;\n",
       "    padding-bottom: 0.3rem;\n",
       "}\n",
       "\n",
       ".estimator-table .parameters-table {\n",
       "    margin-left: auto !important;\n",
       "    margin-right: auto !important;\n",
       "}\n",
       "\n",
       ".estimator-table .parameters-table tr:nth-child(odd) {\n",
       "    background-color: #fff;\n",
       "}\n",
       "\n",
       ".estimator-table .parameters-table tr:nth-child(even) {\n",
       "    background-color: #f6f6f6;\n",
       "}\n",
       "\n",
       ".estimator-table .parameters-table tr:hover {\n",
       "    background-color: #e0e0e0;\n",
       "}\n",
       "\n",
       ".estimator-table table td {\n",
       "    border: 1px solid rgba(106, 105, 104, 0.232);\n",
       "}\n",
       "\n",
       ".user-set td {\n",
       "    color:rgb(255, 94, 0);\n",
       "    text-align: left;\n",
       "}\n",
       "\n",
       ".user-set td.value pre {\n",
       "    color:rgb(255, 94, 0) !important;\n",
       "    background-color: transparent !important;\n",
       "}\n",
       "\n",
       ".default td {\n",
       "    color: black;\n",
       "    text-align: left;\n",
       "}\n",
       "\n",
       ".user-set td i,\n",
       ".default td i {\n",
       "    color: black;\n",
       "}\n",
       "\n",
       ".copy-paste-icon {\n",
       "    background-image: url(data:image/svg+xml;base64,PHN2ZyB4bWxucz0iaHR0cDovL3d3dy53My5vcmcvMjAwMC9zdmciIHZpZXdCb3g9IjAgMCA0NDggNTEyIj48IS0tIUZvbnQgQXdlc29tZSBGcmVlIDYuNy4yIGJ5IEBmb250YXdlc29tZSAtIGh0dHBzOi8vZm9udGF3ZXNvbWUuY29tIExpY2Vuc2UgLSBodHRwczovL2ZvbnRhd2Vzb21lLmNvbS9saWNlbnNlL2ZyZWUgQ29weXJpZ2h0IDIwMjUgRm9udGljb25zLCBJbmMuLS0+PHBhdGggZD0iTTIwOCAwTDMzMi4xIDBjMTIuNyAwIDI0LjkgNS4xIDMzLjkgMTQuMWw2Ny45IDY3LjljOSA5IDE0LjEgMjEuMiAxNC4xIDMzLjlMNDQ4IDMzNmMwIDI2LjUtMjEuNSA0OC00OCA0OGwtMTkyIDBjLTI2LjUgMC00OC0yMS41LTQ4LTQ4bDAtMjg4YzAtMjYuNSAyMS41LTQ4IDQ4LTQ4ek00OCAxMjhsODAgMCAwIDY0LTY0IDAgMCAyNTYgMTkyIDAgMC0zMiA2NCAwIDAgNDhjMCAyNi41LTIxLjUgNDgtNDggNDhMNDggNTEyYy0yNi41IDAtNDgtMjEuNS00OC00OEwwIDE3NmMwLTI2LjUgMjEuNS00OCA0OC00OHoiLz48L3N2Zz4=);\n",
       "    background-repeat: no-repeat;\n",
       "    background-size: 14px 14px;\n",
       "    background-position: 0;\n",
       "    display: inline-block;\n",
       "    width: 14px;\n",
       "    height: 14px;\n",
       "    cursor: pointer;\n",
       "}\n",
       "</style><body><div id=\"sk-container-id-1\" class=\"sk-top-container\"><div class=\"sk-text-repr-fallback\"><pre>LogisticRegression()</pre><b>In a Jupyter environment, please rerun this cell to show the HTML representation or trust the notebook. <br />On GitHub, the HTML representation is unable to render, please try loading this page with nbviewer.org.</b></div><div class=\"sk-container\" hidden><div class=\"sk-item\"><div class=\"sk-estimator fitted sk-toggleable\"><input class=\"sk-toggleable__control sk-hidden--visually\" id=\"sk-estimator-id-1\" type=\"checkbox\" checked><label for=\"sk-estimator-id-1\" class=\"sk-toggleable__label fitted sk-toggleable__label-arrow\"><div><div>LogisticRegression</div></div><div><a class=\"sk-estimator-doc-link fitted\" rel=\"noreferrer\" target=\"_blank\" href=\"https://scikit-learn.org/1.7/modules/generated/sklearn.linear_model.LogisticRegression.html\">?<span>Documentation for LogisticRegression</span></a><span class=\"sk-estimator-doc-link fitted\">i<span>Fitted</span></span></div></label><div class=\"sk-toggleable__content fitted\" data-param-prefix=\"\">\n",
       "        <div class=\"estimator-table\">\n",
       "            <details>\n",
       "                <summary>Parameters</summary>\n",
       "                <table class=\"parameters-table\">\n",
       "                  <tbody>\n",
       "                    \n",
       "        <tr class=\"default\">\n",
       "            <td><i class=\"copy-paste-icon\"\n",
       "                 onclick=\"copyToClipboard('penalty',\n",
       "                          this.parentElement.nextElementSibling)\"\n",
       "            ></i></td>\n",
       "            <td class=\"param\">penalty&nbsp;</td>\n",
       "            <td class=\"value\">&#x27;l2&#x27;</td>\n",
       "        </tr>\n",
       "    \n",
       "\n",
       "        <tr class=\"default\">\n",
       "            <td><i class=\"copy-paste-icon\"\n",
       "                 onclick=\"copyToClipboard('dual',\n",
       "                          this.parentElement.nextElementSibling)\"\n",
       "            ></i></td>\n",
       "            <td class=\"param\">dual&nbsp;</td>\n",
       "            <td class=\"value\">False</td>\n",
       "        </tr>\n",
       "    \n",
       "\n",
       "        <tr class=\"default\">\n",
       "            <td><i class=\"copy-paste-icon\"\n",
       "                 onclick=\"copyToClipboard('tol',\n",
       "                          this.parentElement.nextElementSibling)\"\n",
       "            ></i></td>\n",
       "            <td class=\"param\">tol&nbsp;</td>\n",
       "            <td class=\"value\">0.0001</td>\n",
       "        </tr>\n",
       "    \n",
       "\n",
       "        <tr class=\"default\">\n",
       "            <td><i class=\"copy-paste-icon\"\n",
       "                 onclick=\"copyToClipboard('C',\n",
       "                          this.parentElement.nextElementSibling)\"\n",
       "            ></i></td>\n",
       "            <td class=\"param\">C&nbsp;</td>\n",
       "            <td class=\"value\">1.0</td>\n",
       "        </tr>\n",
       "    \n",
       "\n",
       "        <tr class=\"default\">\n",
       "            <td><i class=\"copy-paste-icon\"\n",
       "                 onclick=\"copyToClipboard('fit_intercept',\n",
       "                          this.parentElement.nextElementSibling)\"\n",
       "            ></i></td>\n",
       "            <td class=\"param\">fit_intercept&nbsp;</td>\n",
       "            <td class=\"value\">True</td>\n",
       "        </tr>\n",
       "    \n",
       "\n",
       "        <tr class=\"default\">\n",
       "            <td><i class=\"copy-paste-icon\"\n",
       "                 onclick=\"copyToClipboard('intercept_scaling',\n",
       "                          this.parentElement.nextElementSibling)\"\n",
       "            ></i></td>\n",
       "            <td class=\"param\">intercept_scaling&nbsp;</td>\n",
       "            <td class=\"value\">1</td>\n",
       "        </tr>\n",
       "    \n",
       "\n",
       "        <tr class=\"default\">\n",
       "            <td><i class=\"copy-paste-icon\"\n",
       "                 onclick=\"copyToClipboard('class_weight',\n",
       "                          this.parentElement.nextElementSibling)\"\n",
       "            ></i></td>\n",
       "            <td class=\"param\">class_weight&nbsp;</td>\n",
       "            <td class=\"value\">None</td>\n",
       "        </tr>\n",
       "    \n",
       "\n",
       "        <tr class=\"default\">\n",
       "            <td><i class=\"copy-paste-icon\"\n",
       "                 onclick=\"copyToClipboard('random_state',\n",
       "                          this.parentElement.nextElementSibling)\"\n",
       "            ></i></td>\n",
       "            <td class=\"param\">random_state&nbsp;</td>\n",
       "            <td class=\"value\">None</td>\n",
       "        </tr>\n",
       "    \n",
       "\n",
       "        <tr class=\"default\">\n",
       "            <td><i class=\"copy-paste-icon\"\n",
       "                 onclick=\"copyToClipboard('solver',\n",
       "                          this.parentElement.nextElementSibling)\"\n",
       "            ></i></td>\n",
       "            <td class=\"param\">solver&nbsp;</td>\n",
       "            <td class=\"value\">&#x27;lbfgs&#x27;</td>\n",
       "        </tr>\n",
       "    \n",
       "\n",
       "        <tr class=\"default\">\n",
       "            <td><i class=\"copy-paste-icon\"\n",
       "                 onclick=\"copyToClipboard('max_iter',\n",
       "                          this.parentElement.nextElementSibling)\"\n",
       "            ></i></td>\n",
       "            <td class=\"param\">max_iter&nbsp;</td>\n",
       "            <td class=\"value\">100</td>\n",
       "        </tr>\n",
       "    \n",
       "\n",
       "        <tr class=\"default\">\n",
       "            <td><i class=\"copy-paste-icon\"\n",
       "                 onclick=\"copyToClipboard('multi_class',\n",
       "                          this.parentElement.nextElementSibling)\"\n",
       "            ></i></td>\n",
       "            <td class=\"param\">multi_class&nbsp;</td>\n",
       "            <td class=\"value\">&#x27;deprecated&#x27;</td>\n",
       "        </tr>\n",
       "    \n",
       "\n",
       "        <tr class=\"default\">\n",
       "            <td><i class=\"copy-paste-icon\"\n",
       "                 onclick=\"copyToClipboard('verbose',\n",
       "                          this.parentElement.nextElementSibling)\"\n",
       "            ></i></td>\n",
       "            <td class=\"param\">verbose&nbsp;</td>\n",
       "            <td class=\"value\">0</td>\n",
       "        </tr>\n",
       "    \n",
       "\n",
       "        <tr class=\"default\">\n",
       "            <td><i class=\"copy-paste-icon\"\n",
       "                 onclick=\"copyToClipboard('warm_start',\n",
       "                          this.parentElement.nextElementSibling)\"\n",
       "            ></i></td>\n",
       "            <td class=\"param\">warm_start&nbsp;</td>\n",
       "            <td class=\"value\">False</td>\n",
       "        </tr>\n",
       "    \n",
       "\n",
       "        <tr class=\"default\">\n",
       "            <td><i class=\"copy-paste-icon\"\n",
       "                 onclick=\"copyToClipboard('n_jobs',\n",
       "                          this.parentElement.nextElementSibling)\"\n",
       "            ></i></td>\n",
       "            <td class=\"param\">n_jobs&nbsp;</td>\n",
       "            <td class=\"value\">None</td>\n",
       "        </tr>\n",
       "    \n",
       "\n",
       "        <tr class=\"default\">\n",
       "            <td><i class=\"copy-paste-icon\"\n",
       "                 onclick=\"copyToClipboard('l1_ratio',\n",
       "                          this.parentElement.nextElementSibling)\"\n",
       "            ></i></td>\n",
       "            <td class=\"param\">l1_ratio&nbsp;</td>\n",
       "            <td class=\"value\">None</td>\n",
       "        </tr>\n",
       "    \n",
       "                  </tbody>\n",
       "                </table>\n",
       "            </details>\n",
       "        </div>\n",
       "    </div></div></div></div></div><script>function copyToClipboard(text, element) {\n",
       "    // Get the parameter prefix from the closest toggleable content\n",
       "    const toggleableContent = element.closest('.sk-toggleable__content');\n",
       "    const paramPrefix = toggleableContent ? toggleableContent.dataset.paramPrefix : '';\n",
       "    const fullParamName = paramPrefix ? `${paramPrefix}${text}` : text;\n",
       "\n",
       "    const originalStyle = element.style;\n",
       "    const computedStyle = window.getComputedStyle(element);\n",
       "    const originalWidth = computedStyle.width;\n",
       "    const originalHTML = element.innerHTML.replace('Copied!', '');\n",
       "\n",
       "    navigator.clipboard.writeText(fullParamName)\n",
       "        .then(() => {\n",
       "            element.style.width = originalWidth;\n",
       "            element.style.color = 'green';\n",
       "            element.innerHTML = \"Copied!\";\n",
       "\n",
       "            setTimeout(() => {\n",
       "                element.innerHTML = originalHTML;\n",
       "                element.style = originalStyle;\n",
       "            }, 2000);\n",
       "        })\n",
       "        .catch(err => {\n",
       "            console.error('Failed to copy:', err);\n",
       "            element.style.color = 'red';\n",
       "            element.innerHTML = \"Failed!\";\n",
       "            setTimeout(() => {\n",
       "                element.innerHTML = originalHTML;\n",
       "                element.style = originalStyle;\n",
       "            }, 2000);\n",
       "        });\n",
       "    return false;\n",
       "}\n",
       "\n",
       "document.querySelectorAll('.fa-regular.fa-copy').forEach(function(element) {\n",
       "    const toggleableContent = element.closest('.sk-toggleable__content');\n",
       "    const paramPrefix = toggleableContent ? toggleableContent.dataset.paramPrefix : '';\n",
       "    const paramName = element.parentElement.nextElementSibling.textContent.trim();\n",
       "    const fullParamName = paramPrefix ? `${paramPrefix}${paramName}` : paramName;\n",
       "\n",
       "    element.setAttribute('title', fullParamName);\n",
       "});\n",
       "</script></body>"
      ],
      "text/plain": [
       "LogisticRegression()"
      ]
     },
     "execution_count": 64,
     "metadata": {},
     "output_type": "execute_result"
    }
   ],
   "source": [
    "lr_classifier = LogisticRegression()\n",
    "lr_classifier.fit(tfidf_matrix, y_train)\n"
   ]
  },
  {
   "cell_type": "markdown",
   "metadata": {
    "id": "Wt0Mxr1YmZO0"
   },
   "source": [
    "### Evaluar el modelo con los datos de prueba\n",
    "\n",
    "Usar el modelo para predecir en `X_test` y evaluar con `y_test`\n",
    "\n",
    "**Nota:** Recuerde que `X_test` debe pasar por los mismos procesos de limpieza y representación que `X_train`"
   ]
  },
  {
   "cell_type": "code",
   "execution_count": 68,
   "metadata": {},
   "outputs": [
    {
     "name": "stdout",
     "output_type": "stream",
     "text": [
      "Accuracy: 0.8091\n",
      "Reporte de clasificación:\n",
      "               precision    recall  f1-score   support\n",
      "\n",
      "           0       0.81      0.77      0.79      4644\n",
      "           1       0.81      0.84      0.83      5356\n",
      "\n",
      "    accuracy                           0.81     10000\n",
      "   macro avg       0.81      0.81      0.81     10000\n",
      "weighted avg       0.81      0.81      0.81     10000\n",
      "\n"
     ]
    }
   ],
   "source": [
    "# Usar el transformador TF-IDF entrenado  con lo datos de train\n",
    "# para procesar los datos de prueba\n",
    "X_test_processed = tfidf.transform(X_test_limpio)\n",
    "\n",
    "y_pred = lr_classifier.predict(X_test_processed)\n",
    "\n",
    "print(\"Accuracy:\", accuracy_score(y_test, y_pred))\n",
    "print(\"Reporte de clasificación:\\n\", classification_report(y_test, y_pred))\n"
   ]
  },
  {
   "cell_type": "code",
   "execution_count": 69,
   "metadata": {
    "colab": {
     "base_uri": "https://localhost:8080/"
    },
    "executionInfo": {
     "elapsed": 33,
     "status": "ok",
     "timestamp": 1742314576802,
     "user": {
      "displayName": "Carlos Bustillo",
      "userId": "14895763228834044971"
     },
     "user_tz": 180
    },
    "id": "cJ9KMVyLmaX0",
    "outputId": "df20535f-365b-439f-db5a-0ae5270d0bfb"
   },
   "outputs": [
    {
     "name": "stdout",
     "output_type": "stream",
     "text": [
      "Accuracy: 0.8091\n",
      "Precision: 0.8076030697840443\n",
      "Recall: 0.8448469006721434\n",
      "F1 Score: 0.8258052742038507\n",
      "ROC AUC Score: 0.8063597121793104\n",
      "Reporte de clasificación:\n",
      "               precision    recall  f1-score   support\n",
      "\n",
      "           0       0.81      0.77      0.79      4644\n",
      "           1       0.81      0.84      0.83      5356\n",
      "\n",
      "    accuracy                           0.81     10000\n",
      "   macro avg       0.81      0.81      0.81     10000\n",
      "weighted avg       0.81      0.81      0.81     10000\n",
      "\n"
     ]
    }
   ],
   "source": [
    "print(\"Accuracy:\", accuracy_score(y_test, y_pred))\n",
    "print(\"Precision:\", precision_score(y_test, y_pred))\n",
    "print(\"Recall:\", recall_score(y_test, y_pred))\n",
    "print(\"F1 Score:\", f1_score(y_test, y_pred))\n",
    "print(\"ROC AUC Score:\", roc_auc_score(y_test, y_pred))\n",
    "print(\"Reporte de clasificación:\\n\", classification_report(y_test, y_pred))"
   ]
  },
  {
   "cell_type": "markdown",
   "metadata": {
    "id": "Q8EMg20rzGVw"
   },
   "source": [
    "**Guardar el modelo**"
   ]
  },
  {
   "cell_type": "code",
   "execution_count": 73,
   "metadata": {
    "colab": {
     "base_uri": "https://localhost:8080/"
    },
    "executionInfo": {
     "elapsed": 21,
     "status": "ok",
     "timestamp": 1742314634787,
     "user": {
      "displayName": "Carlos Bustillo",
      "userId": "14895763228834044971"
     },
     "user_tz": 180
    },
    "id": "mP9pEc3ezIey",
    "outputId": "4aaff043-6a9e-49f5-ec0a-657b9b879b82"
   },
   "outputs": [
    {
     "data": {
      "text/plain": [
       "['models/lr_IAVA_model.pkl']"
      ]
     },
     "execution_count": 73,
     "metadata": {},
     "output_type": "execute_result"
    }
   ],
   "source": [
    "import joblib\n",
    "\n",
    "joblib.dump(lr_classifier, \"models/lr_IAVA_model.pkl\")\n"
   ]
  },
  {
   "cell_type": "markdown",
   "metadata": {},
   "source": [
    "## Librerías Usadas"
   ]
  },
  {
   "cell_type": "code",
   "execution_count": 74,
   "metadata": {},
   "outputs": [
    {
     "name": "stdout",
     "output_type": "stream",
     "text": [
      "Python implementation: CPython\n",
      "Python version       : 3.12.11\n",
      "IPython version      : 9.6.0\n",
      "\n",
      "nltk     : 3.9.2\n",
      "re       : 2.2.1\n",
      "sklearn  : 1.7.2\n",
      "sys      : 3.12.11 (main, Jul  1 2025, 05:29:09) [GCC 12.2.0]\n",
      "watermark: 2.5.0\n",
      "numpy    : 2.3.4\n",
      "pandas   : 2.3.3\n",
      "joblib   : 1.5.2\n",
      "\n"
     ]
    }
   ],
   "source": [
    "from watermark import watermark\n",
    "\n",
    "print(watermark(python=True, iversions=True, globals_=globals()))"
   ]
  },
  {
   "cell_type": "markdown",
   "metadata": {},
   "source": [
    "---\n",
    "\n",
    "## Referencias\n",
    "- [CountVectorizer](https://scikit-learn.org/stable/modules/generated/sklearn.feature_extraction.text.CountVectorizer.html)\n",
    "- [TfidfVectorizer](https://scikit-learn.org/stable/modules/generated/sklearn.feature_extraction.text.TfidfVectorizer.html)\n",
    "- [Classification of text documents using sparse features](https://scikit-learn.org/stable/auto_examples/text/plot_document_classification_20newsgroups.html)\n",
    "- Ejemplo de Entrenamiento y selección de Modelo de machine learning entre varios modelos <https://joserzapata.github.io/post/ciencia-datos-proyecto-python/6-model_selection/>\n",
    "- https://joserzapata.github.io/courses/python-ciencia-datos/python/\n",
    "- https://joserzapata.github.io/courses/python-ciencia-datos/pandas/\n",
    "- https://joserzapata.github.io/courses/python-ciencia-datos/machine-learning/"
   ]
  },
  {
   "cell_type": "markdown",
   "metadata": {},
   "source": [
    "Docente: [Jose R. Zapata](https://joserzapata.github.io)\n",
    "\n",
    "- [https://joserzapata.github.io/](https://joserzapata.github.io/)\n",
    "- [https://www.linkedin.com/in/jose-ricardo-zapata-gonzalez/](https://www.linkedin.com/in/jose-ricardo-zapata-gonzalez/)"
   ]
  }
 ],
 "metadata": {
  "accelerator": "GPU",
  "colab": {
   "authorship_tag": "ABX9TyO2onnY6t+Q8frrcGj/XGl2",
   "collapsed_sections": [
    "TcXzT5msVNnF",
    "yWXYzke6qtI3"
   ],
   "gpuType": "T4",
   "provenance": []
  },
  "kernelspec": {
   "display_name": "template-data-science-container",
   "language": "python",
   "name": "python3"
  },
  "language_info": {
   "codemirror_mode": {
    "name": "ipython",
    "version": 3
   },
   "file_extension": ".py",
   "mimetype": "text/x-python",
   "name": "python",
   "nbconvert_exporter": "python",
   "pygments_lexer": "ipython3",
   "version": "3.12.11"
  }
 },
 "nbformat": 4,
 "nbformat_minor": 0
}
